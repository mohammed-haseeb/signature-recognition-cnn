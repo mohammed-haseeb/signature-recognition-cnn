{
  "metadata": {
    "kernelspec": {
      "name": "python",
      "display_name": "Python (Pyodide)",
      "language": "python"
    },
    "language_info": {
      "name": ""
    }
  },
  "nbformat_minor": 4,
  "nbformat": 4,
  "cells": [
    {
      "cell_type": "code",
      "source": "from tensorflow.keras.utils import load_img, img_to_array\n\nfrom keras.preprocessing.image import ImageDataGenerator\n\n# Total Generated number\ntotal_number = 100\n\ndata_gen = ImageDataGenerator(rescale=1. / 255, shear_range=0.2,\n                              zoom_range=0.2, horizontal_flip=True)\n\n# Create image to tensor\nimg = load_img(\"./input/random-id.jpg\", grayscale=True)\narr = img_to_array(img)\ntensor_image = arr.reshape((1, ) + arr.shape)\n\nfor i, _ in enumerate(data_gen.flow(x=tensor_image,\n                                    batch_size=1,\n                                    save_to_dir=\"./57Sets/SRN(57)/\",\n                                    save_prefix=\"generated\",\n                                    save_format=\".jpg\")):\n    if i > total_number:\n        break",
      "metadata": {
        "trusted": true
      },
      "outputs": [],
      "execution_count": null
    }
  ]
}